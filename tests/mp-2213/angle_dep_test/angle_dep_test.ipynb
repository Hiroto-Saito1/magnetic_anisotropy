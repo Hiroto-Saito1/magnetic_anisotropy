{
 "cells": [
  {
   "cell_type": "code",
   "execution_count": 2,
   "metadata": {},
   "outputs": [],
   "source": [
    "import numpy as np\n",
    "import matplotlib.pylab as plt\n"
   ]
  },
  {
   "cell_type": "code",
   "execution_count": 4,
   "metadata": {},
   "outputs": [],
   "source": [
    "theta_dep = np.zeros(45)\n",
    "phi_dep = np.zeros(45)\n",
    "with open(\"angle_dep_light_orig.txt\", \"r\") as f:\n",
    "    f.readline()\n",
    "    f.readline()\n",
    "    f.readline()\n",
    "    for t_i in range(45):\n",
    "        theta_dep[t_i] = float(f.readline())\n",
    "    f.readline()\n",
    "    for p_j in range(45):\n",
    "        phi_dep[p_j] = float(f.readline())"
   ]
  },
  {
   "cell_type": "code",
   "execution_count": 6,
   "metadata": {},
   "outputs": [
    {
     "data": {
      "text/plain": [
       "Text(0, 0.5, '$dE$ [$\\\\mathrm{\\\\mu eV}/f.u.$]')"
      ]
     },
     "execution_count": 6,
     "metadata": {},
     "output_type": "execute_result"
    },
    {
     "data": {
      "image/png": "[encoded data removed]",
      "text/plain": [
       "<Figure size 432x288 with 1 Axes>"
      ]
     },
     "metadata": {
      "needs_background": "light"
     },
     "output_type": "display_data"
    }
   ],
   "source": [
    "plt.figure()\n",
    "plt.scatter(\n",
    "    np.linspace(0, 180, 45),\n",
    "    (phi_dep - theta_dep[0]) * 10**6,\n",
    "    color=\"black\",\n",
    ")\n",
    "plt.grid()\n",
    "plt.xticks([0, 45, 90, 135, 180], [\"0\", \"45\", \"90\", \"135\", \"180\"])\n",
    "plt.xlabel(\"$\\phi$ [deg]\")\n",
    "plt.ylabel(\"$dE$ [$\\mathrm{\\mu eV}/f.u.$]\")\n"
   ]
  },
  {
   "cell_type": "code",
   "execution_count": 7,
   "metadata": {},
   "outputs": [],
   "source": [
    "theta_dep = np.zeros(45)\n",
    "phi_dep = np.zeros(45)\n",
    "with open(\"angle_dep_light.txt\", \"r\") as f:\n",
    "    f.readline()\n",
    "    f.readline()\n",
    "    f.readline()\n",
    "    for t_i in range(45):\n",
    "        theta_dep[t_i] = float(f.readline())\n",
    "    f.readline()\n",
    "    for p_j in range(45):\n",
    "        phi_dep[p_j] = float(f.readline())"
   ]
  },
  {
   "cell_type": "code",
   "execution_count": 8,
   "metadata": {},
   "outputs": [
    {
     "data": {
      "text/plain": [
       "Text(0, 0.5, '$dE$ [$\\\\mathrm{\\\\mu eV}/f.u.$]')"
      ]
     },
     "execution_count": 8,
     "metadata": {},
     "output_type": "execute_result"
    },
    {
     "data": {
      "image/png": "[encoded data removed]",
      "text/plain": [
       "<Figure size 432x288 with 1 Axes>"
      ]
     },
     "metadata": {
      "needs_background": "light"
     },
     "output_type": "display_data"
    }
   ],
   "source": [
    "plt.figure()\n",
    "plt.scatter(\n",
    "    np.linspace(0, 180, 45),\n",
    "    (phi_dep - theta_dep[0]) * 10**6,\n",
    "    color=\"black\",\n",
    ")\n",
    "plt.grid()\n",
    "plt.xticks([0, 45, 90, 135, 180], [\"0\", \"45\", \"90\", \"135\", \"180\"])\n",
    "plt.xlabel(\"$\\phi$ [deg]\")\n",
    "plt.ylabel(\"$dE$ [$\\mathrm{\\mu eV}/f.u.$]\")\n"
   ]
  },
  {
   "cell_type": "code",
   "execution_count": null,
   "metadata": {},
   "outputs": [],
   "source": []
  }
 ],
 "metadata": {
  "kernelspec": {
   "display_name": "Python 3",
   "language": "python",
   "name": "python3"
  },
  "language_info": {
   "codemirror_mode": {
    "name": "ipython",
    "version": 3
   },
   "file_extension": ".py",
   "mimetype": "text/x-python",
   "name": "python",
   "nbconvert_exporter": "python",
   "pygments_lexer": "ipython3",
   "version": "3.9.12"
  }
 },
 "nbformat": 4,
 "nbformat_minor": 2
}
